{
 "cells": [
  {
   "cell_type": "markdown",
   "id": "17293dbf",
   "metadata": {},
   "source": [
    "reference: https://github.com/NLP-LOVE/ML-NLP/blob/master/Machine%20Learning/3.2%20GBDT/GBDT_demo.ipynb"
   ]
  },
  {
   "cell_type": "code",
   "execution_count": 1,
   "id": "ee70472c",
   "metadata": {},
   "outputs": [],
   "source": [
    "import numpy as np\n",
    "import pandas as pd\n",
    "from sklearn.ensemble import GradientBoostingRegressor"
   ]
  },
  {
   "cell_type": "markdown",
   "id": "af6d234c",
   "metadata": {},
   "source": [
    "### Get train data"
   ]
  },
  {
   "cell_type": "code",
   "execution_count": 2,
   "id": "bf8a6361",
   "metadata": {},
   "outputs": [
    {
     "data": {
      "text/plain": [
       "array([[ 5.98802e-03,  5.69231e-01,  6.47059e-01,  9.51220e-01,\n",
       "        -2.25434e-01,  8.37989e-01,  3.57258e-01, -3.05810e-03,\n",
       "        -3.83475e-01,  3.20000e+02],\n",
       "       [ 1.61677e-01,  7.43195e-01,  6.82353e-01,  9.60976e-01,\n",
       "        -8.67052e-02,  7.80527e-01,  2.82945e-01,  1.49847e-01,\n",
       "        -5.29661e-02,  3.61000e+02],\n",
       "       [ 1.13772e-01,  7.44379e-01,  5.41176e-01,  9.90244e-01,\n",
       "        -5.78035e-03,  7.21468e-01,  4.34110e-01, -3.18043e-01,\n",
       "         2.88136e-01,  3.64000e+02],\n",
       "       [ 5.38922e-02,  6.08284e-01,  7.64706e-01,  9.51220e-01,\n",
       "        -2.48555e-01,  8.21229e-01,  8.48604e-01, -3.05810e-03,\n",
       "         2.39407e-01,  3.36000e+02],\n",
       "       [ 1.73653e-01,  8.66272e-01,  6.82353e-01,  9.51220e-01,\n",
       "         1.73410e-02,  7.04709e-01, -2.10016e-02, -1.95719e-01,\n",
       "         1.50424e-01,  3.58000e+02]], dtype=float32)"
      ]
     },
     "execution_count": 2,
     "metadata": {},
     "output_type": "execute_result"
    }
   ],
   "source": [
    "train_feature = np.genfromtxt(\"train_feat.txt\", dtype=np.float32)\n",
    "# turn into array\n",
    "train_feature"
   ]
  },
  {
   "cell_type": "code",
   "execution_count": 5,
   "id": "5f4a33e8",
   "metadata": {},
   "outputs": [
    {
     "data": {
      "text/plain": [
       "10"
      ]
     },
     "execution_count": 5,
     "metadata": {},
     "output_type": "execute_result"
    }
   ],
   "source": [
    "num_feature = len(train_feature[0])\n",
    "# the number of feature in one row\n",
    "num_feature"
   ]
  },
  {
   "cell_type": "code",
   "execution_count": 6,
   "id": "9b2c474b",
   "metadata": {},
   "outputs": [],
   "source": [
    "train_feature = pd.DataFrame(train_feature)"
   ]
  },
  {
   "cell_type": "code",
   "execution_count": 7,
   "id": "8a3c16d6",
   "metadata": {},
   "outputs": [
    {
     "data": {
      "text/html": [
       "<div>\n",
       "<style scoped>\n",
       "    .dataframe tbody tr th:only-of-type {\n",
       "        vertical-align: middle;\n",
       "    }\n",
       "\n",
       "    .dataframe tbody tr th {\n",
       "        vertical-align: top;\n",
       "    }\n",
       "\n",
       "    .dataframe thead th {\n",
       "        text-align: right;\n",
       "    }\n",
       "</style>\n",
       "<table border=\"1\" class=\"dataframe\">\n",
       "  <thead>\n",
       "    <tr style=\"text-align: right;\">\n",
       "      <th></th>\n",
       "      <th>0</th>\n",
       "      <th>1</th>\n",
       "      <th>2</th>\n",
       "      <th>3</th>\n",
       "      <th>4</th>\n",
       "      <th>5</th>\n",
       "      <th>6</th>\n",
       "      <th>7</th>\n",
       "      <th>8</th>\n",
       "      <th>9</th>\n",
       "    </tr>\n",
       "  </thead>\n",
       "  <tbody>\n",
       "    <tr>\n",
       "      <th>0</th>\n",
       "      <td>0.005988</td>\n",
       "      <td>0.569231</td>\n",
       "      <td>0.647059</td>\n",
       "      <td>0.951220</td>\n",
       "      <td>-0.225434</td>\n",
       "      <td>0.837989</td>\n",
       "      <td>0.357258</td>\n",
       "      <td>-0.003058</td>\n",
       "      <td>-0.383475</td>\n",
       "      <td>320.0</td>\n",
       "    </tr>\n",
       "    <tr>\n",
       "      <th>1</th>\n",
       "      <td>0.161677</td>\n",
       "      <td>0.743195</td>\n",
       "      <td>0.682353</td>\n",
       "      <td>0.960976</td>\n",
       "      <td>-0.086705</td>\n",
       "      <td>0.780527</td>\n",
       "      <td>0.282945</td>\n",
       "      <td>0.149847</td>\n",
       "      <td>-0.052966</td>\n",
       "      <td>361.0</td>\n",
       "    </tr>\n",
       "    <tr>\n",
       "      <th>2</th>\n",
       "      <td>0.113772</td>\n",
       "      <td>0.744379</td>\n",
       "      <td>0.541176</td>\n",
       "      <td>0.990244</td>\n",
       "      <td>-0.005780</td>\n",
       "      <td>0.721468</td>\n",
       "      <td>0.434110</td>\n",
       "      <td>-0.318043</td>\n",
       "      <td>0.288136</td>\n",
       "      <td>364.0</td>\n",
       "    </tr>\n",
       "    <tr>\n",
       "      <th>3</th>\n",
       "      <td>0.053892</td>\n",
       "      <td>0.608284</td>\n",
       "      <td>0.764706</td>\n",
       "      <td>0.951220</td>\n",
       "      <td>-0.248555</td>\n",
       "      <td>0.821229</td>\n",
       "      <td>0.848604</td>\n",
       "      <td>-0.003058</td>\n",
       "      <td>0.239407</td>\n",
       "      <td>336.0</td>\n",
       "    </tr>\n",
       "    <tr>\n",
       "      <th>4</th>\n",
       "      <td>0.173653</td>\n",
       "      <td>0.866272</td>\n",
       "      <td>0.682353</td>\n",
       "      <td>0.951220</td>\n",
       "      <td>0.017341</td>\n",
       "      <td>0.704709</td>\n",
       "      <td>-0.021002</td>\n",
       "      <td>-0.195719</td>\n",
       "      <td>0.150424</td>\n",
       "      <td>358.0</td>\n",
       "    </tr>\n",
       "  </tbody>\n",
       "</table>\n",
       "</div>"
      ],
      "text/plain": [
       "          0         1         2         3         4         5         6  \\\n",
       "0  0.005988  0.569231  0.647059  0.951220 -0.225434  0.837989  0.357258   \n",
       "1  0.161677  0.743195  0.682353  0.960976 -0.086705  0.780527  0.282945   \n",
       "2  0.113772  0.744379  0.541176  0.990244 -0.005780  0.721468  0.434110   \n",
       "3  0.053892  0.608284  0.764706  0.951220 -0.248555  0.821229  0.848604   \n",
       "4  0.173653  0.866272  0.682353  0.951220  0.017341  0.704709 -0.021002   \n",
       "\n",
       "          7         8      9  \n",
       "0 -0.003058 -0.383475  320.0  \n",
       "1  0.149847 -0.052966  361.0  \n",
       "2 -0.318043  0.288136  364.0  \n",
       "3 -0.003058  0.239407  336.0  \n",
       "4 -0.195719  0.150424  358.0  "
      ]
     },
     "execution_count": 7,
     "metadata": {},
     "output_type": "execute_result"
    }
   ],
   "source": [
    "# turn into dataframe\n",
    "train_feature"
   ]
  },
  {
   "cell_type": "code",
   "execution_count": 11,
   "id": "ec115034",
   "metadata": {},
   "outputs": [
    {
     "data": {
      "text/plain": [
       "0    320.0\n",
       "1    361.0\n",
       "2    364.0\n",
       "3    336.0\n",
       "4    358.0\n",
       "Name: 9, dtype: float32"
      ]
     },
     "execution_count": 11,
     "metadata": {},
     "output_type": "execute_result"
    }
   ],
   "source": [
    "train_label = train_feature.iloc[:, num_feature - 1]\n",
    "train_label"
   ]
  },
  {
   "cell_type": "code",
   "execution_count": 12,
   "id": "fde4ab9a",
   "metadata": {},
   "outputs": [
    {
     "data": {
      "text/html": [
       "<div>\n",
       "<style scoped>\n",
       "    .dataframe tbody tr th:only-of-type {\n",
       "        vertical-align: middle;\n",
       "    }\n",
       "\n",
       "    .dataframe tbody tr th {\n",
       "        vertical-align: top;\n",
       "    }\n",
       "\n",
       "    .dataframe thead th {\n",
       "        text-align: right;\n",
       "    }\n",
       "</style>\n",
       "<table border=\"1\" class=\"dataframe\">\n",
       "  <thead>\n",
       "    <tr style=\"text-align: right;\">\n",
       "      <th></th>\n",
       "      <th>0</th>\n",
       "      <th>1</th>\n",
       "      <th>2</th>\n",
       "      <th>3</th>\n",
       "      <th>4</th>\n",
       "      <th>5</th>\n",
       "      <th>6</th>\n",
       "      <th>7</th>\n",
       "    </tr>\n",
       "  </thead>\n",
       "  <tbody>\n",
       "    <tr>\n",
       "      <th>0</th>\n",
       "      <td>0.005988</td>\n",
       "      <td>0.569231</td>\n",
       "      <td>0.647059</td>\n",
       "      <td>0.951220</td>\n",
       "      <td>-0.225434</td>\n",
       "      <td>0.837989</td>\n",
       "      <td>0.357258</td>\n",
       "      <td>-0.003058</td>\n",
       "    </tr>\n",
       "    <tr>\n",
       "      <th>1</th>\n",
       "      <td>0.161677</td>\n",
       "      <td>0.743195</td>\n",
       "      <td>0.682353</td>\n",
       "      <td>0.960976</td>\n",
       "      <td>-0.086705</td>\n",
       "      <td>0.780527</td>\n",
       "      <td>0.282945</td>\n",
       "      <td>0.149847</td>\n",
       "    </tr>\n",
       "    <tr>\n",
       "      <th>2</th>\n",
       "      <td>0.113772</td>\n",
       "      <td>0.744379</td>\n",
       "      <td>0.541176</td>\n",
       "      <td>0.990244</td>\n",
       "      <td>-0.005780</td>\n",
       "      <td>0.721468</td>\n",
       "      <td>0.434110</td>\n",
       "      <td>-0.318043</td>\n",
       "    </tr>\n",
       "    <tr>\n",
       "      <th>3</th>\n",
       "      <td>0.053892</td>\n",
       "      <td>0.608284</td>\n",
       "      <td>0.764706</td>\n",
       "      <td>0.951220</td>\n",
       "      <td>-0.248555</td>\n",
       "      <td>0.821229</td>\n",
       "      <td>0.848604</td>\n",
       "      <td>-0.003058</td>\n",
       "    </tr>\n",
       "    <tr>\n",
       "      <th>4</th>\n",
       "      <td>0.173653</td>\n",
       "      <td>0.866272</td>\n",
       "      <td>0.682353</td>\n",
       "      <td>0.951220</td>\n",
       "      <td>0.017341</td>\n",
       "      <td>0.704709</td>\n",
       "      <td>-0.021002</td>\n",
       "      <td>-0.195719</td>\n",
       "    </tr>\n",
       "  </tbody>\n",
       "</table>\n",
       "</div>"
      ],
      "text/plain": [
       "          0         1         2         3         4         5         6  \\\n",
       "0  0.005988  0.569231  0.647059  0.951220 -0.225434  0.837989  0.357258   \n",
       "1  0.161677  0.743195  0.682353  0.960976 -0.086705  0.780527  0.282945   \n",
       "2  0.113772  0.744379  0.541176  0.990244 -0.005780  0.721468  0.434110   \n",
       "3  0.053892  0.608284  0.764706  0.951220 -0.248555  0.821229  0.848604   \n",
       "4  0.173653  0.866272  0.682353  0.951220  0.017341  0.704709 -0.021002   \n",
       "\n",
       "          7  \n",
       "0 -0.003058  \n",
       "1  0.149847  \n",
       "2 -0.318043  \n",
       "3 -0.003058  \n",
       "4 -0.195719  "
      ]
     },
     "execution_count": 12,
     "metadata": {},
     "output_type": "execute_result"
    }
   ],
   "source": [
    "train_feature = train_feature.iloc[:, 0:num_feature - 2]\n",
    "train_feature"
   ]
  },
  {
   "cell_type": "markdown",
   "id": "7c6fe56a",
   "metadata": {},
   "source": [
    "###  Get test data"
   ]
  },
  {
   "cell_type": "code",
   "execution_count": null,
   "id": "97fa5e63",
   "metadata": {},
   "outputs": [],
   "source": []
  },
  {
   "cell_type": "code",
   "execution_count": null,
   "id": "a80939bc",
   "metadata": {},
   "outputs": [],
   "source": []
  },
  {
   "cell_type": "code",
   "execution_count": null,
   "id": "26bd82eb",
   "metadata": {},
   "outputs": [],
   "source": []
  }
 ],
 "metadata": {
  "kernelspec": {
   "display_name": "Python 3",
   "language": "python",
   "name": "python3"
  },
  "language_info": {
   "codemirror_mode": {
    "name": "ipython",
    "version": 3
   },
   "file_extension": ".py",
   "mimetype": "text/x-python",
   "name": "python",
   "nbconvert_exporter": "python",
   "pygments_lexer": "ipython3",
   "version": "3.8.8"
  }
 },
 "nbformat": 4,
 "nbformat_minor": 5
}
